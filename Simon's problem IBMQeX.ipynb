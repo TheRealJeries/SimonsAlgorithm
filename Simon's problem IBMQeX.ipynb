{
 "cells": [
  {
   "cell_type": "markdown",
   "metadata": {},
   "source": [
    "# Simon's Problem\n",
    "Jeries Dababneh and Esteban Duran"
   ]
  },
  {
   "cell_type": "code",
   "execution_count": 1,
   "metadata": {},
   "outputs": [],
   "source": [
    "import numpy as np\n",
    "import random\n",
    "import matplotlib.pyplot as plt\n",
    "from sympy import *\n",
    "%matplotlib inline\n",
    "\n",
    "from qiskit import QuantumCircuit, ClassicalRegister, QuantumRegister\n",
    "from qiskit import Aer, execute\n",
    "from qiskit.tools.visualization import plot_histogram\n",
    "\n",
    "import warnings\n",
    "warnings.simplefilter('ignore')"
   ]
  },
  {
   "cell_type": "code",
   "execution_count": 34,
   "metadata": {
    "scrolled": true
   },
   "outputs": [],
   "source": [
    "def simons_circuit(qbits, secret):\n",
    "    n = qbits\n",
    "\n",
    "    qr = QuantumRegister(n*2) # 4 qubit register\n",
    "    cr = ClassicalRegister(n) # 1 classical register\n",
    "    circ = QuantumCircuit(qr, cr) # Quantum Circuit on q\n",
    "\n",
    "    for i in range(0, n):\n",
    "        circ.h(qr[i])\n",
    "\n",
    "    circ.barrier()\n",
    "\n",
    "    for i in range(0, n):\n",
    "        circ.cx(qr[i], qr[n+i])\n",
    "\n",
    "    circ.barrier()\n",
    "\n",
    "    s = secret\n",
    "\n",
    "    #xor s.\n",
    "    for i, c in enumerate(s):\n",
    "        if c == '0':\n",
    "            circ.cx(qr[i], qr[n+i])\n",
    "\n",
    "    circ.barrier()\n",
    "    \n",
    "    for i in range(0, n):\n",
    "        circ.h(qr[i])\n",
    "        circ.measure(qr[i], cr[i])\n",
    "        \n",
    "    return circ"
   ]
  },
  {
   "cell_type": "code",
   "execution_count": 63,
   "metadata": {
    "scrolled": true
   },
   "outputs": [
    {
     "data": {
      "image/png": "[encoded data removed]",
      "text/plain": [
       "<Figure size 842.8x379.26 with 1 Axes>"
      ]
     },
     "execution_count": 63,
     "metadata": {},
     "output_type": "execute_result"
    }
   ],
   "source": [
    "n = 2\n",
    "secret = '01'\n",
    "circ = simons_circuit(n, secret)\n",
    "circ.draw(output='mpl')"
   ]
  },
  {
   "cell_type": "code",
   "execution_count": 4,
   "metadata": {},
   "outputs": [],
   "source": [
    "# turn the measured string into an array of integers.\n",
    "def get_wi(w):\n",
    "    v = []\n",
    "    for i in range(n):\n",
    "        v.append(int(w[(n-i) - 1]))\n",
    "    return v"
   ]
  },
  {
   "cell_type": "code",
   "execution_count": 58,
   "metadata": {
    "scrolled": true
   },
   "outputs": [
    {
     "name": "stdout",
     "output_type": "stream",
     "text": [
      "s[ 1 ] = 1\n",
      "s[ 2 ] = 1\n",
      "s[ 3 ] = 1\n"
     ]
    },
    {
     "data": {
      "text/latex": [
       "$\\displaystyle \\left[\\begin{matrix}0 & 1 & 0 & 0\\\\0 & 0 & 1 & 0\\\\0 & 0 & 0 & 1\\end{matrix}\\right]$"
      ],
      "text/plain": [
       "Matrix([\n",
       "[0, 1, 0, 0],\n",
       "[0, 0, 1, 0],\n",
       "[0, 0, 0, 1]])"
      ]
     },
     "execution_count": 58,
     "metadata": {},
     "output_type": "execute_result"
    }
   ],
   "source": [
    "simulator = Aer.get_backend('qasm_simulator')\n",
    "M = Matrix([[]])\n",
    "\n",
    "#while loop to collect the rest\n",
    "dim = 0\n",
    "i = 0\n",
    "count = {}\n",
    "while(True and i < 2*n ):\n",
    "    #run simul, get measurement\n",
    "    result = execute(circ, simulator, shots=1).result()\n",
    "    temp = result.get_counts(circ)\n",
    "    mes = next(iter(temp))\n",
    "    if int(mes) != 0:\n",
    "        wi = get_wi(mes)\n",
    "        if mes in count:\n",
    "            count[mes] = count[mes] + 1\n",
    "        # make augment matrix by adding the new row\n",
    "        ma = M.col_join(Matrix([wi]))\n",
    "        \n",
    "        #check if new measuremnt is in the span of {w_i}\n",
    "        m, mr = M.rref()\n",
    "        mA, mar = ma.rref()\n",
    "        if mr != mar:\n",
    "            M = ma\n",
    "            dim = dim + 1\n",
    "            count[mes] = 1\n",
    "        if (dim == n - 1):\n",
    "            break     \n",
    "    i = i + 1\n",
    "M, _ = M.rref()\n",
    "#ptrint the system of equations that satisfy s\n",
    "rows, cols = M.shape\n",
    "for r in range(rows):\n",
    "    Yr = [ \"s[ \"+str(i)+\" ]\" for i, v in enumerate(list(M[r,:])) if v == 1 ]\n",
    "    if len(Yr) > 0:\n",
    "        tStr = \" + \".join(Yr)\n",
    "        print(tStr, \"= 1\")\n",
    "M"
   ]
  },
  {
   "cell_type": "code",
   "execution_count": 59,
   "metadata": {
    "scrolled": true
   },
   "outputs": [
    {
     "data": {
      "image/png": "[encoded data removed]",
      "text/plain": [
       "<Figure size 504x360 with 1 Axes>"
      ]
     },
     "execution_count": 59,
     "metadata": {},
     "output_type": "execute_result"
    }
   ],
   "source": [
    "plot_histogram(count, title='Simons problem')"
   ]
  },
  {
   "cell_type": "code",
   "execution_count": 43,
   "metadata": {},
   "outputs": [
    {
     "data": {
      "text/plain": [
       "{'001000': 4, '001010': 2, '000100': 3, '001100': 1, '000110': 1}"
      ]
     },
     "execution_count": 43,
     "metadata": {},
     "output_type": "execute_result"
    }
   ],
   "source": [
    "count"
   ]
  },
  {
   "cell_type": "code",
   "execution_count": 53,
   "metadata": {},
   "outputs": [],
   "source": [
    "from qiskit import IBMQ\n",
    "IBMQ.load_accounts()"
   ]
  },
  {
   "cell_type": "code",
   "execution_count": 54,
   "metadata": {},
   "outputs": [
    {
     "name": "stdout",
     "output_type": "stream",
     "text": [
      "Available backends:\n"
     ]
    },
    {
     "data": {
      "text/plain": [
       "[<IBMQBackend('ibmqx4') from IBMQ()>,\n",
       " <IBMQBackend('ibmqx2') from IBMQ()>,\n",
       " <IBMQBackend('ibmq_16_melbourne') from IBMQ()>,\n",
       " <IBMQBackend('ibmq_qasm_simulator') from IBMQ()>]"
      ]
     },
     "execution_count": 54,
     "metadata": {},
     "output_type": "execute_result"
    }
   ],
   "source": [
    "print(\"Available backends:\")\n",
    "IBMQ.backends()"
   ]
  },
  {
   "cell_type": "code",
   "execution_count": 74,
   "metadata": {},
   "outputs": [
    {
     "name": "stdout",
     "output_type": "stream",
     "text": [
      "The best backend is ibmqx4\n"
     ]
    }
   ],
   "source": [
    "from qiskit.providers.ibmq import least_busy\n",
    "\n",
    "large_enough_devices = IBMQ.backends(filters=lambda x: x.configuration().n_qubits > 3 and not x.configuration().simulator)\n",
    "backend = least_busy(large_enough_devices)\n",
    "print(\"The best backend is \" + backend.name())"
   ]
  },
  {
   "cell_type": "code",
   "execution_count": 64,
   "metadata": {},
   "outputs": [],
   "source": [
    "from qiskit.tools.monitor import job_monitor\n",
    "shots = 50*n\n",
    "max_credits = 3\n",
    "job_exp = execute(circ, backend, shots = shots, max_credits=max_credits)"
   ]
  },
  {
   "cell_type": "code",
   "execution_count": null,
   "metadata": {},
   "outputs": [],
   "source": [
    "job_monitor(job_exp)"
   ]
  },
  {
   "cell_type": "code",
   "execution_count": null,
   "metadata": {},
   "outputs": [],
   "source": [
    "res = job_exp.result()\n",
    "answer = res.get_counts(circ)\n",
    "\n",
    "plot_histogram(answer)"
   ]
  }
 ],
 "metadata": {
  "kernelspec": {
   "display_name": "Python 3",
   "language": "python",
   "name": "python3"
  },
  "language_info": {
   "codemirror_mode": {
    "name": "ipython",
    "version": 3
   },
   "file_extension": ".py",
   "mimetype": "text/x-python",
   "name": "python",
   "nbconvert_exporter": "python",
   "pygments_lexer": "ipython3",
   "version": "3.7.3"
  }
 },
 "nbformat": 4,
 "nbformat_minor": 2
}
